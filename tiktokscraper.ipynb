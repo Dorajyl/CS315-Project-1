{
 "cells": [
  {
   "cell_type": "code",
   "execution_count": null,
   "id": "e37fcc21",
   "metadata": {},
   "outputs": [],
   "source": [
    "from seleniumbase import Driver\n",
    "from selenium.webdriver.common.by import By # contains operators for the type of search we want to do\n",
    "import time"
   ]
  },
  {
   "cell_type": "code",
   "execution_count": 14,
   "id": "8b69e61a",
   "metadata": {},
   "outputs": [],
   "source": [
    "class Tiktok_audit:\n",
    "\n",
    "    def __init__(self, bot_user_num, bot_test_scenario, bot_email, bot_password):\n",
    "        \"\"\"\n",
    "        bot_user_num        int; placeholder for future use\n",
    "        bot_test_scenario   int; placeholder for future use\n",
    "        bot_email           string; tiktok login email\n",
    "        bot_password        string; tiktok login password\n",
    "        \"\"\"\n",
    "        self.user_num = bot_user_num\n",
    "        self.test_scenario = bot_test_scenario\n",
    "        self.email = bot_email\n",
    "        self.password = bot_password\n",
    "        self.browser = Driver(uc=True) #gets driver in UC Mode(undetected-chromedriver with any browser version) \n",
    "        self.liked_list = []\n",
    "        \n",
    "        #different approaches of selecting posts to like\n",
    "        self.approach = None #random, hashtag, content\n",
    "        self.to_like_list_random = [] #randomly\n",
    "        self.to_like_list_hashtag = [] #user personas defined by set of hashtags\n",
    "        self.to_like_list_content = []  #those that matched specific content creators or sounds\n",
    "        \n",
    "        self.batch_num = None  #1 batch = 30 posts\n",
    "        self.videos_list = []\n",
    "    \n",
    "    def fetch_tiktok(self):\n",
    "        \"\"\"\n",
    "        Opens tiktok, specifies in seconds how long the driver should be disconnected from Chrome to prevent\n",
    "        detection and reconnect\n",
    "        \"\"\"\n",
    "        self.browser.uc_open_with_reconnect('https://www.tiktok.com/en/',reconnect_time=5) #link to login page\n",
    "        \n",
    "    def login(self):\n",
    "        \"\"\"\n",
    "        logins to the bot account\n",
    "        \"\"\"\n",
    "        time.sleep(1)\n",
    "\n",
    "        # click \"use phone/number/email\" on login page\n",
    "        use_email = self.browser.find_element(By.XPATH, \"/html/body/div[5]/div[3]/div/div/div/div[1]/div/div/div[1]/div[2]/div[2]\")\n",
    "        use_email.click()\n",
    "\n",
    "        time.sleep(4)\n",
    "\n",
    "        # click \"login with email or username\"\n",
    "        self.browser.find_element(By.XPATH, \"/html/body/div[5]/div[3]/div/div/div/div[1]/div[2]/form/div[1]/a\").click()\n",
    "\n",
    "        time.sleep(1)\n",
    "\n",
    "        input_username = self.browser.find_element(By.XPATH, \"/html/body/div[5]/div[3]/div/div/div/div[1]/div[2]/form/div[1]/input\")\n",
    "        input_password = self.browser.find_element(By.XPATH, \"/html/body/div[5]/div[3]/div/div/div/div[1]/div[2]/form/div[2]/div/input\")\n",
    "\n",
    "        input_username.send_keys(self.email)\n",
    "        input_password.send_keys(self.password)\n",
    "\n",
    "        time.sleep(3)\n",
    "\n",
    "        login = self.browser.find_element(By.XPATH, \"/html/body/div[5]/div[3]/div/div/div/div[1]/div[2]/form/button\")\n",
    "        login.click()\n",
    "    \n",
    "    def like_posts_method1(self):\n",
    "        \"\"\"\n",
    "        like a post using clicking/ interacting on the for you page\n",
    "        \"\"\"\n",
    "        time.sleep(10)\n",
    "        #get list of buttons including like, favorite, share, comment\n",
    "        like_list = self.browser.find_elements(By.XPATH, '//*[@class=\"css-1ok4pbl-ButtonActionItem e1hk3hf90\"]')\n",
    "        print(\"num of posts\",len(like_list))\n",
    "        for i in range(len(like_list)):\n",
    "            if i % 4 == 0:\n",
    "                print(like_list[i].get_attribute(\"aria-label\"))\n",
    "                time.sleep(2)\n",
    "        for i in range(len(like_list)):\n",
    "            if i % 4 == 0:\n",
    "                like_list[i].click()\n",
    "                \n",
    "    def like_posts_method2(self):\n",
    "        \"\"\"\n",
    "        like a post by first clicking the first video and then interacting\n",
    "        \"\"\"\n",
    "        time.sleep(5)\n",
    "        # Click on first video on FYP\n",
    "        self.browser.find_element(By.CLASS_NAME, \"css-11ma4ul-DivVideoPlayerContainer\").click()\n",
    "        print(\"opened\")\n",
    "        # Next Video, can be adapted w/ random number to like random post\n",
    "        time.sleep(5)\n",
    "        self.browser.find_element(By.CLASS_NAME, \"css-1s9jpf8-ButtonBasicButtonContainer-StyledVideoSwitch\").click()\n",
    "        print(\"opened\")\n",
    "        # Like\n",
    "        time.sleep(5)\n",
    "        self.browser.find_element(By.CLASS_NAME, \"css-xakz2y-ButtonActionItem\").click()\n",
    "        print(\"opened\")\n",
    "        \n",
    "    def view_posts(self, t):\n",
    "        \"\"\"\n",
    "        view a post by first clicking the first video and then waiting for designated time\n",
    "        in seconds\n",
    "        \"\"\"\n",
    "        time.sleep(5)\n",
    "        # Click on first video on FYP\n",
    "        self.browser.find_element(By.CLASS_NAME, \"css-11ma4ul-DivVideoPlayerContainer\").click()\n",
    "        print(\"opened\")\n",
    "        # Next Video, can be adapted w/ random number to like random post\n",
    "        time.sleep(5)\n",
    "        self.browser.find_element(By.CLASS_NAME, \"css-1s9jpf8-ButtonBasicButtonContainer-StyledVideoSwitch\").click()\n",
    "        time.sleep(t)\n",
    "        \n",
    "    def follow_posts(self):\n",
    "        \"\"\"\n",
    "        follow an account by clicking the following button\n",
    "        \"\"\"\n",
    "        time.sleep(10)\n",
    "        #get follow button and click\n",
    "        self.browser.find_element(By.XPATH, '//*[@id=\"main-content-homepage_hot\"]/div[1]/div[1]/div/div[1]/button').click()\n",
    "\n",
    "        # self.browser.find_element(By.CLASS_NAME, \"css-1s9jpf8-ButtonBasicButtonContainer-StyledVideoSwitch\").click()\n",
    "        print(\"followed\")"
   ]
  },
  {
   "cell_type": "code",
   "execution_count": 22,
   "id": "c2929f24",
   "metadata": {},
   "outputs": [],
   "source": [
    "test = Tiktok_audit(1,2,\"fer.ro.mayela@gmail.com\",\"DCzpii6GEfXu6sHbQ\") #put a random # for param bot_num & bot_test_scenario\n",
    "test.fetch_tiktok()\n",
    "test.login()"
   ]
  },
  {
   "cell_type": "code",
   "execution_count": 21,
   "id": "b2c837d0",
   "metadata": {},
   "outputs": [
    {
     "name": "stdout",
     "output_type": "stream",
     "text": [
      "followed\n"
     ]
    }
   ],
   "source": [
    "test.follow_posts()"
   ]
  },
  {
   "cell_type": "code",
   "execution_count": null,
   "id": "99377626",
   "metadata": {},
   "outputs": [],
   "source": [
    "test.like_posts_method2()"
   ]
  },
  {
   "cell_type": "code",
   "execution_count": null,
   "id": "d65b84f0",
   "metadata": {},
   "outputs": [],
   "source": [
    "import pyktok as pyk #see https://github.com/dfreelon/pyktok for details\n",
    "pyk.specify_browser('firefox') \n",
    "\n",
    "url = browser.find_element(By.XPATH, \"/html/body/div[1]/div[2]/div[4]/div/div[2]/div[1]/div/div[1]/div[2]/div/div[2]/p\").text\n",
    "pyk.save_tiktok(f\"{url}\",\n",
    "                False,\n",
    "                'tiktok_videos.csv',\n",
    "                'firefox')"
   ]
  },
  {
   "cell_type": "code",
   "execution_count": null,
   "id": "9b9e944e",
   "metadata": {},
   "outputs": [],
   "source": []
  }
 ],
 "metadata": {
  "kernelspec": {
   "display_name": "Python 3 (ipykernel)",
   "language": "python",
   "name": "python3"
  },
  "language_info": {
   "codemirror_mode": {
    "name": "ipython",
    "version": 3
   },
   "file_extension": ".py",
   "mimetype": "text/x-python",
   "name": "python",
   "nbconvert_exporter": "python",
   "pygments_lexer": "ipython3",
   "version": "3.11.1"
  }
 },
 "nbformat": 4,
 "nbformat_minor": 5
}
