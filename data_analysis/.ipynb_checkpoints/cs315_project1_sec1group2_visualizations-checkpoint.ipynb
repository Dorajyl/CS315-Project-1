{
 "cells": [
  {
   "cell_type": "markdown",
   "id": "134280eb-8ab6-43f8-bcbd-26b650a01ff0",
   "metadata": {},
   "source": [
    "# CS 315 Project #1: Data Visualization (*Group 2*)\n",
    "\n",
    "**Section 01 - Group 2 Data Visualization Code**\n",
    "\n",
    "**Written**: Wednesday, February 14, 2024"
   ]
  },
  {
   "cell_type": "markdown",
   "id": "a8c8bd1d-fa5a-4fa1-9c16-2ea5f5600c7d",
   "metadata": {},
   "source": [
    "<a id=\"sec1\"></a>\n",
    "# 1. Loading in our data"
   ]
  },
  {
   "cell_type": "markdown",
   "id": "eb0b2f87-f9a7-4015-88ba-9561aeefb084",
   "metadata": {},
   "source": [
    "We will load into pandas our data for all data collection runs. Our raw data has been previously cleaned and concatenated together.\n",
    "\n",
    "Our dataset has the following columns:\n",
    "- **batchID**: *string* concatenation of \"user, \"run\", \"batch\", \"index\"\n",
    "- **run**: *int* representing 1-5 runs that webdriver preformed\n",
    "- **batch**: *int* representing batch 1-5 for each individual run\n",
    "- **index**: *int* representing index value of video per batch\n",
    "- **saved**: *boolean* True if video was saved, False otherwise\n",
    "- **author**: *string* representation of video's creator\n",
    "- **likes**: *int* number of likes\n",
    "- **comments**: *int* number of comments\n",
    "- **shares**: *int* number of shares\n",
    "- **saves**: *int* number of saves\n",
    "- **music**: *string* representation of sound used in video\n",
    "- **hashtags**: *list* of hashtags used in video\n",
    "\n",
    "\n",
    "***NOTE: Change/Update file paths!***"
   ]
  },
  {
   "cell_type": "code",
   "execution_count": 1,
   "id": "642c8277-4eee-48e3-9ae0-9fa886288c2c",
   "metadata": {},
   "outputs": [],
   "source": [
    "# import all libraries we will need in order to run this notebook\n",
    "import os, csv\n",
    "import pandas as pd\n",
    "import matplotlib.pyplot as plt\n",
    "import seaborn as sns\n",
    "import numpy as np\n",
    "from collections import Counter\n",
    "import urllib"
   ]
  },
  {
   "cell_type": "markdown",
   "id": "39b14d4c-8451-4f3e-b16d-7aea92648cc5",
   "metadata": {},
   "source": [
    "##### Using os we are finding the file path for our data and loading it into a new pandas dataframe."
   ]
  },
  {
   "cell_type": "code",
   "execution_count": 2,
   "id": "180708eb-695f-4975-bc30-4d5fe3d30298",
   "metadata": {
    "scrolled": true
   },
   "outputs": [
    {
     "data": {
      "text/html": [
       "<div>\n",
       "<style scoped>\n",
       "    .dataframe tbody tr th:only-of-type {\n",
       "        vertical-align: middle;\n",
       "    }\n",
       "\n",
       "    .dataframe tbody tr th {\n",
       "        vertical-align: top;\n",
       "    }\n",
       "\n",
       "    .dataframe thead th {\n",
       "        text-align: right;\n",
       "    }\n",
       "</style>\n",
       "<table border=\"1\" class=\"dataframe\">\n",
       "  <thead>\n",
       "    <tr style=\"text-align: right;\">\n",
       "      <th></th>\n",
       "      <th>batchID</th>\n",
       "      <th>run</th>\n",
       "      <th>batch</th>\n",
       "      <th>index</th>\n",
       "      <th>saved</th>\n",
       "      <th>author</th>\n",
       "      <th>likes</th>\n",
       "      <th>comments</th>\n",
       "      <th>shares</th>\n",
       "      <th>saves</th>\n",
       "      <th>music</th>\n",
       "      <th>hashtags</th>\n",
       "    </tr>\n",
       "  </thead>\n",
       "  <tbody>\n",
       "    <tr>\n",
       "      <th>0</th>\n",
       "      <td>fn_activ_1_1_0</td>\n",
       "      <td>1</td>\n",
       "      <td>1</td>\n",
       "      <td>0</td>\n",
       "      <td>False</td>\n",
       "      <td>ina.katherine</td>\n",
       "      <td>3400000</td>\n",
       "      <td>30200</td>\n",
       "      <td>226400</td>\n",
       "      <td>94800</td>\n",
       "      <td>original sound - ina</td>\n",
       "      <td>NaN</td>\n",
       "    </tr>\n",
       "    <tr>\n",
       "      <th>1</th>\n",
       "      <td>fn_activ_1_1_1</td>\n",
       "      <td>1</td>\n",
       "      <td>1</td>\n",
       "      <td>1</td>\n",
       "      <td>False</td>\n",
       "      <td>leci.bby</td>\n",
       "      <td>280200</td>\n",
       "      <td>627</td>\n",
       "      <td>15500</td>\n",
       "      <td>164</td>\n",
       "      <td>original sound - fr0sty_rick</td>\n",
       "      <td>['fyp%E3%82%B7', 'relatable', 'trending', 'ayl...</td>\n",
       "    </tr>\n",
       "    <tr>\n",
       "      <th>2</th>\n",
       "      <td>fn_activ_1_1_2</td>\n",
       "      <td>1</td>\n",
       "      <td>1</td>\n",
       "      <td>2</td>\n",
       "      <td>False</td>\n",
       "      <td>kassieemariee</td>\n",
       "      <td>689400</td>\n",
       "      <td>2198</td>\n",
       "      <td>73600</td>\n",
       "      <td>6060</td>\n",
       "      <td>original sound - Taj.Mahal</td>\n",
       "      <td>NaN</td>\n",
       "    </tr>\n",
       "    <tr>\n",
       "      <th>3</th>\n",
       "      <td>fn_activ_1_1_3</td>\n",
       "      <td>1</td>\n",
       "      <td>1</td>\n",
       "      <td>3</td>\n",
       "      <td>False</td>\n",
       "      <td>caseynicolaxx</td>\n",
       "      <td>29500</td>\n",
       "      <td>107</td>\n",
       "      <td>855</td>\n",
       "      <td>62</td>\n",
       "      <td>Rock With It by Saucy Santana - Saucy Santana</td>\n",
       "      <td>['fyp', 'foryou', 'foryoupage', 'caseynicola',...</td>\n",
       "    </tr>\n",
       "    <tr>\n",
       "      <th>4</th>\n",
       "      <td>fn_activ_1_1_4</td>\n",
       "      <td>1</td>\n",
       "      <td>1</td>\n",
       "      <td>4</td>\n",
       "      <td>False</td>\n",
       "      <td>jailyneojeda</td>\n",
       "      <td>439800</td>\n",
       "      <td>1313</td>\n",
       "      <td>30800</td>\n",
       "      <td>965</td>\n",
       "      <td>original sound - Jailyne Ojeda</td>\n",
       "      <td>NaN</td>\n",
       "    </tr>\n",
       "    <tr>\n",
       "      <th>...</th>\n",
       "      <td>...</td>\n",
       "      <td>...</td>\n",
       "      <td>...</td>\n",
       "      <td>...</td>\n",
       "      <td>...</td>\n",
       "      <td>...</td>\n",
       "      <td>...</td>\n",
       "      <td>...</td>\n",
       "      <td>...</td>\n",
       "      <td>...</td>\n",
       "      <td>...</td>\n",
       "      <td>...</td>\n",
       "    </tr>\n",
       "    <tr>\n",
       "      <th>8460</th>\n",
       "      <td>ep_cntrl_24_5_19</td>\n",
       "      <td>24</td>\n",
       "      <td>5</td>\n",
       "      <td>19</td>\n",
       "      <td>False</td>\n",
       "      <td>quedivertidotv1</td>\n",
       "      <td>7912</td>\n",
       "      <td>21</td>\n",
       "      <td>362</td>\n",
       "      <td>10</td>\n",
       "      <td>sonido original - Qué Divertido Tv</td>\n",
       "      <td>NaN</td>\n",
       "    </tr>\n",
       "    <tr>\n",
       "      <th>8461</th>\n",
       "      <td>ep_cntrl_24_5_20</td>\n",
       "      <td>24</td>\n",
       "      <td>5</td>\n",
       "      <td>20</td>\n",
       "      <td>False</td>\n",
       "      <td>familiapinaoficiial</td>\n",
       "      <td>228200</td>\n",
       "      <td>1110</td>\n",
       "      <td>14700</td>\n",
       "      <td>774</td>\n",
       "      <td>som original - Família.Pina.Oficial</td>\n",
       "      <td>NaN</td>\n",
       "    </tr>\n",
       "    <tr>\n",
       "      <th>8462</th>\n",
       "      <td>ep_cntrl_24_5_21</td>\n",
       "      <td>24</td>\n",
       "      <td>5</td>\n",
       "      <td>21</td>\n",
       "      <td>False</td>\n",
       "      <td>itssanya.1</td>\n",
       "      <td>124100</td>\n",
       "      <td>576</td>\n",
       "      <td>10700</td>\n",
       "      <td>109</td>\n",
       "      <td>original sound - Sanya</td>\n",
       "      <td>['@ucoolmediylashes']</td>\n",
       "    </tr>\n",
       "    <tr>\n",
       "      <th>8463</th>\n",
       "      <td>ep_cntrl_24_5_22</td>\n",
       "      <td>24</td>\n",
       "      <td>5</td>\n",
       "      <td>22</td>\n",
       "      <td>False</td>\n",
       "      <td>nayelilovera_</td>\n",
       "      <td>46300</td>\n",
       "      <td>662</td>\n",
       "      <td>6843</td>\n",
       "      <td>94</td>\n",
       "      <td>Love songs - ⭐️</td>\n",
       "      <td>['fyp%E3%82%B7', 'trending', 'fyp', 'foryoupag...</td>\n",
       "    </tr>\n",
       "    <tr>\n",
       "      <th>8464</th>\n",
       "      <td>ep_cntrl_24_5_23</td>\n",
       "      <td>24</td>\n",
       "      <td>5</td>\n",
       "      <td>23</td>\n",
       "      <td>False</td>\n",
       "      <td>ellianawalmsley</td>\n",
       "      <td>138700</td>\n",
       "      <td>959</td>\n",
       "      <td>6569</td>\n",
       "      <td>158</td>\n",
       "      <td>Fuck It Up! - Ocho Drippin</td>\n",
       "      <td>['babygerald', 'babymamas', 'wearentactuallypr...</td>\n",
       "    </tr>\n",
       "  </tbody>\n",
       "</table>\n",
       "<p>8465 rows × 12 columns</p>\n",
       "</div>"
      ],
      "text/plain": [
       "               batchID  run  batch  index  saved               author  \\\n",
       "0       fn_activ_1_1_0    1      1      0  False        ina.katherine   \n",
       "1       fn_activ_1_1_1    1      1      1  False             leci.bby   \n",
       "2       fn_activ_1_1_2    1      1      2  False        kassieemariee   \n",
       "3       fn_activ_1_1_3    1      1      3  False        caseynicolaxx   \n",
       "4       fn_activ_1_1_4    1      1      4  False         jailyneojeda   \n",
       "...                ...  ...    ...    ...    ...                  ...   \n",
       "8460  ep_cntrl_24_5_19   24      5     19  False      quedivertidotv1   \n",
       "8461  ep_cntrl_24_5_20   24      5     20  False  familiapinaoficiial   \n",
       "8462  ep_cntrl_24_5_21   24      5     21  False           itssanya.1   \n",
       "8463  ep_cntrl_24_5_22   24      5     22  False        nayelilovera_   \n",
       "8464  ep_cntrl_24_5_23   24      5     23  False      ellianawalmsley   \n",
       "\n",
       "        likes  comments  shares  saves  \\\n",
       "0     3400000     30200  226400  94800   \n",
       "1      280200       627   15500    164   \n",
       "2      689400      2198   73600   6060   \n",
       "3       29500       107     855     62   \n",
       "4      439800      1313   30800    965   \n",
       "...       ...       ...     ...    ...   \n",
       "8460     7912        21     362     10   \n",
       "8461   228200      1110   14700    774   \n",
       "8462   124100       576   10700    109   \n",
       "8463    46300       662    6843     94   \n",
       "8464   138700       959    6569    158   \n",
       "\n",
       "                                              music  \\\n",
       "0                              original sound - ina   \n",
       "1                      original sound - fr0sty_rick   \n",
       "2                        original sound - Taj.Mahal   \n",
       "3     Rock With It by Saucy Santana - Saucy Santana   \n",
       "4                    original sound - Jailyne Ojeda   \n",
       "...                                             ...   \n",
       "8460             sonido original - Qué Divertido Tv   \n",
       "8461            som original - Família.Pina.Oficial   \n",
       "8462                         original sound - Sanya   \n",
       "8463                                Love songs - ⭐️   \n",
       "8464                     Fuck It Up! - Ocho Drippin   \n",
       "\n",
       "                                               hashtags  \n",
       "0                                                   NaN  \n",
       "1     ['fyp%E3%82%B7', 'relatable', 'trending', 'ayl...  \n",
       "2                                                   NaN  \n",
       "3     ['fyp', 'foryou', 'foryoupage', 'caseynicola',...  \n",
       "4                                                   NaN  \n",
       "...                                                 ...  \n",
       "8460                                                NaN  \n",
       "8461                                                NaN  \n",
       "8462                              ['@ucoolmediylashes']  \n",
       "8463  ['fyp%E3%82%B7', 'trending', 'fyp', 'foryoupag...  \n",
       "8464  ['babygerald', 'babymamas', 'wearentactuallypr...  \n",
       "\n",
       "[8465 rows x 12 columns]"
      ]
     },
     "execution_count": 2,
     "metadata": {},
     "output_type": "execute_result"
    }
   ],
   "source": [
    "# Loading in our data\n",
    "df = pd.read_csv(\"/Users/dorajyl/Desktop/w/CS315/CS315_Project1/data/master.csv\")\n",
    "df"
   ]
  },
  {
   "cell_type": "markdown",
   "id": "bfa2ee13-59da-4d3d-8c6c-8bd15c44cabe",
   "metadata": {},
   "source": [
    "<a id=\"sec2\"></a>\n",
    "# 2. Analyzing our data"
   ]
  },
  {
   "cell_type": "markdown",
   "id": "70862f96-f6ca-40ab-9f09-4ee5454086ef",
   "metadata": {
    "jp-MarkdownHeadingCollapsed": true
   },
   "source": [
    "## **plot_metric_member Part 1**\n",
    "\n",
    "Creates data frames for one person's control and active account and plots the mean for each run. \n",
    "\n",
    "Each plot is saved in folder named \"*visualizations*\".\n",
    "\n",
    "##### **Parameters**:\n",
    "- **Metric**: *str*, represents one of the following metrics of TikTok's popularity: likes, comments, shares, saves (only acceptable inputs)\n",
    "- **Initial**: *str*, should represent one of six group members: ep, dl, lg, fg, fn, ss (only acceptable inputs)"
   ]
  },
  {
   "cell_type": "code",
   "execution_count": 3,
   "id": "48212a03",
   "metadata": {},
   "outputs": [],
   "source": [
    "def plot_metric_member(metric, initial, df):\n",
    "    '''\n",
    "    Creates data frames for one person's control and active account and plots the mean for each run.\n",
    "\n",
    "    Parameters:\n",
    "        Metric: str, represents one of the following metrics of TikTok's popularity: likes, comments, shares, saves (only acceptable inputs)\n",
    "        Initial: str, should represent one of six group members: ep, dl, lg, fg, fn, ss (only acceptable inputs)\n",
    "    '''\n",
    "    df_activ = df[df['batchID'].str.contains(f'{initial}_activ')]\n",
    "    df_cntrl = df[df['batchID'].str.contains(f'{initial}_cntrl')]\n",
    "    \n",
    "    # Get descriptive statistic for df by index -- assuming 25 runs\n",
    "    df_activ_group = df_activ.groupby('run')[[metric]].median()\n",
    "    df_cntrl_group = df_cntrl.groupby('run')[[metric]].median()\n",
    "    \n",
    "    # Graph the average of the chosen metric for both control and active accounts over 25 runs\n",
    "    sns.set_style('whitegrid')\n",
    "    # sns.scatterplot(x=range(len(df_activ_group)),y='likes',data=df_activ_group,color='blue')\n",
    "    # sns.lineplot(x=range(len(df_activ_group)),y='likes',data=df_activ_group,color = 'lightblue')\n",
    "    sns.scatterplot(x='run',y=metric,data=df_activ_group,color='blue')\n",
    "    sns.lineplot(x='run',y=metric,data=df_activ_group,color = 'lightblue')\n",
    "\n",
    "    sns.scatterplot(x='run',y=metric,data=df_cntrl_group,color='green')\n",
    "    sns.lineplot(x='run',y=metric,data=df_cntrl_group,color = 'lightgreen')\n",
    "\n",
    "    plt.title(f'Median {metric} for {initial} for Active and Control Groups')\n",
    "    plt.xlabel('Run Number')\n",
    "\n",
    "    plt.show()"
   ]
  },
  {
   "cell_type": "markdown",
   "id": "8c00403b-dab7-4d29-996a-ee12696badb1",
   "metadata": {},
   "source": [
    "##### Now we will run **plot_metric_member** once for each member (ep, dl, lg, fg, fn, ss)."
   ]
  },
  {
   "cell_type": "code",
   "execution_count": null,
   "id": "5cf7d640",
   "metadata": {},
   "outputs": [],
   "source": [
    "members = [\"ep\", \"ss\", \"Dl\", \"lg\", \"fg\", \"fn\"]\n",
    "metrics = [\"likes\", \"comments\", \"shares\", \"saves\"]\n",
    "\n",
    "for metric in metrics:\n",
    "    for member in members:\n",
    "        plot_metric_member(metric,member,df)"
   ]
  },
  {
   "cell_type": "markdown",
   "id": "b7fd916c-f7f8-4f62-b8b8-cbea5550faa2",
   "metadata": {},
   "source": [
    "## **plot_metric_member Part 2**\n",
    "\n",
    "Creates data frames for one person's control and active account and plots the mean for each run. This code adds in a legend and changes colors to the previously made plots\n",
    "\n",
    "Each plot is saved in folder named \"*visualizations*\".\n",
    "\n",
    "##### **Parameters**:\n",
    "- **Metric**: *str*, represents one of the following metrics of TikTok's popularity: likes, comments, shares, saves (only acceptable inputs)\n",
    "- **Initial**: *str*, should represent one of six group members: ep, dl, lg, fg, fn, ss (only acceptable inputs)"
   ]
  },
  {
   "cell_type": "code",
   "execution_count": 6,
   "id": "5922c68f-6c6e-4a80-bb45-50488948b9ef",
   "metadata": {},
   "outputs": [
    {
     "data": {
      "text/html": [
       "<div>\n",
       "<style scoped>\n",
       "    .dataframe tbody tr th:only-of-type {\n",
       "        vertical-align: middle;\n",
       "    }\n",
       "\n",
       "    .dataframe tbody tr th {\n",
       "        vertical-align: top;\n",
       "    }\n",
       "\n",
       "    .dataframe thead th {\n",
       "        text-align: right;\n",
       "    }\n",
       "</style>\n",
       "<table border=\"1\" class=\"dataframe\">\n",
       "  <thead>\n",
       "    <tr style=\"text-align: right;\">\n",
       "      <th></th>\n",
       "      <th>batchID</th>\n",
       "      <th>run</th>\n",
       "      <th>batch</th>\n",
       "      <th>index</th>\n",
       "      <th>saved</th>\n",
       "      <th>author</th>\n",
       "      <th>likes</th>\n",
       "      <th>comments</th>\n",
       "      <th>shares</th>\n",
       "      <th>saves</th>\n",
       "      <th>music</th>\n",
       "      <th>hashtags</th>\n",
       "      <th>group</th>\n",
       "    </tr>\n",
       "  </thead>\n",
       "  <tbody>\n",
       "    <tr>\n",
       "      <th>0</th>\n",
       "      <td>fn_activ_1_1_0</td>\n",
       "      <td>1</td>\n",
       "      <td>1</td>\n",
       "      <td>0</td>\n",
       "      <td>False</td>\n",
       "      <td>ina.katherine</td>\n",
       "      <td>3400000</td>\n",
       "      <td>30200</td>\n",
       "      <td>226400</td>\n",
       "      <td>94800</td>\n",
       "      <td>original sound - ina</td>\n",
       "      <td>NaN</td>\n",
       "      <td>active</td>\n",
       "    </tr>\n",
       "    <tr>\n",
       "      <th>1</th>\n",
       "      <td>fn_activ_1_1_1</td>\n",
       "      <td>1</td>\n",
       "      <td>1</td>\n",
       "      <td>1</td>\n",
       "      <td>False</td>\n",
       "      <td>leci.bby</td>\n",
       "      <td>280200</td>\n",
       "      <td>627</td>\n",
       "      <td>15500</td>\n",
       "      <td>164</td>\n",
       "      <td>original sound - fr0sty_rick</td>\n",
       "      <td>['fyp%E3%82%B7', 'relatable', 'trending', 'ayl...</td>\n",
       "      <td>active</td>\n",
       "    </tr>\n",
       "    <tr>\n",
       "      <th>2</th>\n",
       "      <td>fn_activ_1_1_2</td>\n",
       "      <td>1</td>\n",
       "      <td>1</td>\n",
       "      <td>2</td>\n",
       "      <td>False</td>\n",
       "      <td>kassieemariee</td>\n",
       "      <td>689400</td>\n",
       "      <td>2198</td>\n",
       "      <td>73600</td>\n",
       "      <td>6060</td>\n",
       "      <td>original sound - Taj.Mahal</td>\n",
       "      <td>NaN</td>\n",
       "      <td>active</td>\n",
       "    </tr>\n",
       "    <tr>\n",
       "      <th>3</th>\n",
       "      <td>fn_activ_1_1_3</td>\n",
       "      <td>1</td>\n",
       "      <td>1</td>\n",
       "      <td>3</td>\n",
       "      <td>False</td>\n",
       "      <td>caseynicolaxx</td>\n",
       "      <td>29500</td>\n",
       "      <td>107</td>\n",
       "      <td>855</td>\n",
       "      <td>62</td>\n",
       "      <td>Rock With It by Saucy Santana - Saucy Santana</td>\n",
       "      <td>['fyp', 'foryou', 'foryoupage', 'caseynicola',...</td>\n",
       "      <td>active</td>\n",
       "    </tr>\n",
       "    <tr>\n",
       "      <th>4</th>\n",
       "      <td>fn_activ_1_1_4</td>\n",
       "      <td>1</td>\n",
       "      <td>1</td>\n",
       "      <td>4</td>\n",
       "      <td>False</td>\n",
       "      <td>jailyneojeda</td>\n",
       "      <td>439800</td>\n",
       "      <td>1313</td>\n",
       "      <td>30800</td>\n",
       "      <td>965</td>\n",
       "      <td>original sound - Jailyne Ojeda</td>\n",
       "      <td>NaN</td>\n",
       "      <td>active</td>\n",
       "    </tr>\n",
       "    <tr>\n",
       "      <th>...</th>\n",
       "      <td>...</td>\n",
       "      <td>...</td>\n",
       "      <td>...</td>\n",
       "      <td>...</td>\n",
       "      <td>...</td>\n",
       "      <td>...</td>\n",
       "      <td>...</td>\n",
       "      <td>...</td>\n",
       "      <td>...</td>\n",
       "      <td>...</td>\n",
       "      <td>...</td>\n",
       "      <td>...</td>\n",
       "      <td>...</td>\n",
       "    </tr>\n",
       "    <tr>\n",
       "      <th>8460</th>\n",
       "      <td>ep_cntrl_24_5_19</td>\n",
       "      <td>24</td>\n",
       "      <td>5</td>\n",
       "      <td>19</td>\n",
       "      <td>False</td>\n",
       "      <td>quedivertidotv1</td>\n",
       "      <td>7912</td>\n",
       "      <td>21</td>\n",
       "      <td>362</td>\n",
       "      <td>10</td>\n",
       "      <td>sonido original - Qué Divertido Tv</td>\n",
       "      <td>NaN</td>\n",
       "      <td>control</td>\n",
       "    </tr>\n",
       "    <tr>\n",
       "      <th>8461</th>\n",
       "      <td>ep_cntrl_24_5_20</td>\n",
       "      <td>24</td>\n",
       "      <td>5</td>\n",
       "      <td>20</td>\n",
       "      <td>False</td>\n",
       "      <td>familiapinaoficiial</td>\n",
       "      <td>228200</td>\n",
       "      <td>1110</td>\n",
       "      <td>14700</td>\n",
       "      <td>774</td>\n",
       "      <td>som original - Família.Pina.Oficial</td>\n",
       "      <td>NaN</td>\n",
       "      <td>control</td>\n",
       "    </tr>\n",
       "    <tr>\n",
       "      <th>8462</th>\n",
       "      <td>ep_cntrl_24_5_21</td>\n",
       "      <td>24</td>\n",
       "      <td>5</td>\n",
       "      <td>21</td>\n",
       "      <td>False</td>\n",
       "      <td>itssanya.1</td>\n",
       "      <td>124100</td>\n",
       "      <td>576</td>\n",
       "      <td>10700</td>\n",
       "      <td>109</td>\n",
       "      <td>original sound - Sanya</td>\n",
       "      <td>['@ucoolmediylashes']</td>\n",
       "      <td>control</td>\n",
       "    </tr>\n",
       "    <tr>\n",
       "      <th>8463</th>\n",
       "      <td>ep_cntrl_24_5_22</td>\n",
       "      <td>24</td>\n",
       "      <td>5</td>\n",
       "      <td>22</td>\n",
       "      <td>False</td>\n",
       "      <td>nayelilovera_</td>\n",
       "      <td>46300</td>\n",
       "      <td>662</td>\n",
       "      <td>6843</td>\n",
       "      <td>94</td>\n",
       "      <td>Love songs - ⭐️</td>\n",
       "      <td>['fyp%E3%82%B7', 'trending', 'fyp', 'foryoupag...</td>\n",
       "      <td>control</td>\n",
       "    </tr>\n",
       "    <tr>\n",
       "      <th>8464</th>\n",
       "      <td>ep_cntrl_24_5_23</td>\n",
       "      <td>24</td>\n",
       "      <td>5</td>\n",
       "      <td>23</td>\n",
       "      <td>False</td>\n",
       "      <td>ellianawalmsley</td>\n",
       "      <td>138700</td>\n",
       "      <td>959</td>\n",
       "      <td>6569</td>\n",
       "      <td>158</td>\n",
       "      <td>Fuck It Up! - Ocho Drippin</td>\n",
       "      <td>['babygerald', 'babymamas', 'wearentactuallypr...</td>\n",
       "      <td>control</td>\n",
       "    </tr>\n",
       "  </tbody>\n",
       "</table>\n",
       "<p>8465 rows × 13 columns</p>\n",
       "</div>"
      ],
      "text/plain": [
       "               batchID  run  batch  index  saved               author  \\\n",
       "0       fn_activ_1_1_0    1      1      0  False        ina.katherine   \n",
       "1       fn_activ_1_1_1    1      1      1  False             leci.bby   \n",
       "2       fn_activ_1_1_2    1      1      2  False        kassieemariee   \n",
       "3       fn_activ_1_1_3    1      1      3  False        caseynicolaxx   \n",
       "4       fn_activ_1_1_4    1      1      4  False         jailyneojeda   \n",
       "...                ...  ...    ...    ...    ...                  ...   \n",
       "8460  ep_cntrl_24_5_19   24      5     19  False      quedivertidotv1   \n",
       "8461  ep_cntrl_24_5_20   24      5     20  False  familiapinaoficiial   \n",
       "8462  ep_cntrl_24_5_21   24      5     21  False           itssanya.1   \n",
       "8463  ep_cntrl_24_5_22   24      5     22  False        nayelilovera_   \n",
       "8464  ep_cntrl_24_5_23   24      5     23  False      ellianawalmsley   \n",
       "\n",
       "        likes  comments  shares  saves  \\\n",
       "0     3400000     30200  226400  94800   \n",
       "1      280200       627   15500    164   \n",
       "2      689400      2198   73600   6060   \n",
       "3       29500       107     855     62   \n",
       "4      439800      1313   30800    965   \n",
       "...       ...       ...     ...    ...   \n",
       "8460     7912        21     362     10   \n",
       "8461   228200      1110   14700    774   \n",
       "8462   124100       576   10700    109   \n",
       "8463    46300       662    6843     94   \n",
       "8464   138700       959    6569    158   \n",
       "\n",
       "                                              music  \\\n",
       "0                              original sound - ina   \n",
       "1                      original sound - fr0sty_rick   \n",
       "2                        original sound - Taj.Mahal   \n",
       "3     Rock With It by Saucy Santana - Saucy Santana   \n",
       "4                    original sound - Jailyne Ojeda   \n",
       "...                                             ...   \n",
       "8460             sonido original - Qué Divertido Tv   \n",
       "8461            som original - Família.Pina.Oficial   \n",
       "8462                         original sound - Sanya   \n",
       "8463                                Love songs - ⭐️   \n",
       "8464                     Fuck It Up! - Ocho Drippin   \n",
       "\n",
       "                                               hashtags    group  \n",
       "0                                                   NaN   active  \n",
       "1     ['fyp%E3%82%B7', 'relatable', 'trending', 'ayl...   active  \n",
       "2                                                   NaN   active  \n",
       "3     ['fyp', 'foryou', 'foryoupage', 'caseynicola',...   active  \n",
       "4                                                   NaN   active  \n",
       "...                                                 ...      ...  \n",
       "8460                                                NaN  control  \n",
       "8461                                                NaN  control  \n",
       "8462                              ['@ucoolmediylashes']  control  \n",
       "8463  ['fyp%E3%82%B7', 'trending', 'fyp', 'foryoupag...  control  \n",
       "8464  ['babygerald', 'babymamas', 'wearentactuallypr...  control  \n",
       "\n",
       "[8465 rows x 13 columns]"
      ]
     },
     "execution_count": 6,
     "metadata": {},
     "output_type": "execute_result"
    }
   ],
   "source": [
    "df[\"group\"] = [\"active\" if \"activ\" in row else 'control' for row in df['batchID']]\n",
    "df"
   ]
  },
  {
   "cell_type": "code",
   "execution_count": 7,
   "id": "e780067c-5d4d-48cf-b716-a39a833e90b0",
   "metadata": {},
   "outputs": [],
   "source": [
    "# For each team member, create a separate dataframe containing their active data\n",
    "ep_activ = df[df['batchID'].str.contains('ep_activ')]\n",
    "ss_activ = df[df['batchID'].str.contains('ss_activ')]\n",
    "fg_activ = df[df['batchID'].str.contains('fg_activ')]\n",
    "fn_activ = df[df['batchID'].str.contains('fn_activ')]\n",
    "lg_activ = df[df['batchID'].str.contains('lg_activ')]\n",
    "dl_activ = df[df['batchID'].str.contains('Dl_activ')]"
   ]
  },
  {
   "cell_type": "code",
   "execution_count": 8,
   "id": "77a4dedb-ab0a-4559-9d1e-dbef4fe682c7",
   "metadata": {},
   "outputs": [],
   "source": [
    "# For each team member, create a separate dataframe containing their control data\n",
    "ep_cntrl = df[df['batchID'].str.contains('ep_cntrl')]\n",
    "ss_cntrl = df[df['batchID'].str.contains('ss_cntrl')]\n",
    "fg_cntrl = df[df['batchID'].str.contains('fg_cntrl')]\n",
    "fn_cntrl = df[df['batchID'].str.contains('fn_cntrl')]\n",
    "lg_cntrl = df[df['batchID'].str.contains('lg_cntrl')]\n",
    "dl_cntrl = df[df['batchID'].str.contains('Dl_cntrl')]"
   ]
  },
  {
   "cell_type": "markdown",
   "id": "d8b4aa4e-f96e-4198-87e1-45b53e099daf",
   "metadata": {
    "jp-MarkdownHeadingCollapsed": true
   },
   "source": [
    "##### We will concatenate each users two datasets to form one dataframe per memeber."
   ]
  },
  {
   "cell_type": "code",
   "execution_count": null,
   "id": "c3451969-307b-405e-9fef-53f548496d84",
   "metadata": {},
   "outputs": [],
   "source": [
    "ep = pd.concat([ep_cntrl,ep_activ])\n",
    "ss = pd.concat([ss_cntrl,ss_activ])\n",
    "fg = pd.concat([fg_cntrl,fg_activ])\n",
    "fn = pd.concat([fn_cntrl,fn_activ])\n",
    "lg = pd.concat([lg_cntrl,lg_activ])\n",
    "dl = pd.concat([dl_cntrl,dl_activ])"
   ]
  },
  {
   "cell_type": "code",
   "execution_count": null,
   "id": "af9f0f67-fe3f-43b2-8cd0-dea53ec37f89",
   "metadata": {},
   "outputs": [],
   "source": [
    "def plot_metric_member(metric, initial, df):\n",
    "    '''\n",
    "    Creates data frames for one person's control and active account and plots the mean for each run.\n",
    "\n",
    "    Parameters:\n",
    "        Metric: str, represents one of the following metrics of TikTok's popularity: likes, comments, shares, saves (only acceptable inputs)\n",
    "        Initial: str, should represent one of six group members: ep, dl, lg, fg, fn, ss (only acceptable inputs)\n",
    "    '''\n",
    "    sns.set_theme(style=\"whitegrid\")\n",
    "    fig = sns.lineplot(x=\"run\", \n",
    "                       y= metric,\n",
    "                       data=df, \n",
    "                       hue=\"group\",\n",
    "                       marker='o',\n",
    "                       errorbar=None)\n",
    "\n",
    "    plt.title(f'Median {metric} for {initial} for Active and Control Groups')\n",
    "    plt.xlabel('Run Number')\n",
    "    plt.legend(loc='upper left',title=\"Legend\")\n",
    "\n",
    "    plt.savefig(f'/Users/fernandagonzalez/Desktop/school/CS 315/CS315_Project1/data_analysis/vizualizations/{initial}_{metric}.png', bbox_inches='tight')\n",
    "    plt.show()"
   ]
  },
  {
   "cell_type": "markdown",
   "id": "b41646d9-dc25-4db0-b326-485221b3f1bc",
   "metadata": {
    "jp-MarkdownHeadingCollapsed": true
   },
   "source": [
    "##### Now we will run **plot_metric_member** once for each member (ep, dl, lg, fg, fn, ss)."
   ]
  },
  {
   "cell_type": "code",
   "execution_count": null,
   "id": "46d1f369-8c35-4a1d-9b2c-f27ea105d611",
   "metadata": {},
   "outputs": [],
   "source": [
    "dfs = [ep, ss, dl, lg, fg, fn]\n",
    "initials = ['ep', 'ss', 'dl', 'lg', 'fg', 'fn']\n",
    "metrics = [\"likes\", \"comments\", \"shares\", \"saves\"]\n",
    "\n",
    "for metric in metrics:\n",
    "    for i in range(len(dfs)):\n",
    "        plot_metric_member(metric, initials[i], dfs[i])"
   ]
  },
  {
   "cell_type": "markdown",
   "id": "e6dace17-fb79-4306-a6bb-8f3ef7be553f",
   "metadata": {
    "jp-MarkdownHeadingCollapsed": true
   },
   "source": [
    "## **countAllHashtags**\n",
    "\n",
    "Takes a string or a NaN value. Splits the strings to find hashtags, updates a Counter object (*a global variable*) to keep track of all hashtags."
   ]
  },
  {
   "cell_type": "markdown",
   "id": "7e145c6c-3849-41db-9b9b-af1f9190c204",
   "metadata": {},
   "source": [
    "##### The following code collects frequency for all hashtags."
   ]
  },
  {
   "cell_type": "code",
   "execution_count": 4,
   "id": "289e741d-2297-4f33-abf8-b89b1e7288dc",
   "metadata": {},
   "outputs": [
    {
     "data": {
      "text/plain": [
       "[(\"'fyp'\", 1173),\n",
       " (\"['fyp'\", 987),\n",
       " (\"'viral'\", 768),\n",
       " (\"'foryou'\", 704),\n",
       " (\"'fyp%E3%82%B7'\", 453),\n",
       " (\"'foryoupage'\", 380),\n",
       " (\"'fyp']\", 367),\n",
       " (\"'funny'\", 294),\n",
       " (\"'trending'\", 272),\n",
       " (\"'fyp%E3%82%B7%E3%82%9Aviral'\", 226),\n",
       " (\"'relatable'\", 174),\n",
       " (\"['foryou'\", 174),\n",
       " (\"'viralvideo'\", 163),\n",
       " (\"'viral']\", 162),\n",
       " (\"['fyp%E3%82%B7'\", 161),\n",
       " (\"'tiktok'\", 158),\n",
       " (\"['fyp']\", 156),\n",
       " (\"'couple'\", 140),\n",
       " (\"'foryou']\", 137),\n",
       " (\"'fy'\", 123),\n",
       " (\"'trend'\", 117),\n",
       " (\"'dance'\", 99),\n",
       " (\"'foryoupage']\", 97),\n",
       " (\"['viral'\", 96),\n",
       " (\"'blowthisup'\", 94)]"
      ]
     },
     "execution_count": 4,
     "metadata": {},
     "output_type": "execute_result"
    }
   ],
   "source": [
    "cnt = Counter()\n",
    "def countAllHashtags(cell):\n",
    "    \"\"\"\n",
    "    Takes a string or a NaN value. Splits the srings to find hashtags, updates a Counter object\n",
    "    (a global variable) to keep track of all hashtags.\n",
    "    \"\"\"\n",
    "    if type(cell) == str: # avoid NaN values, which are float\n",
    "        htList = [el.strip() for el in cell.split(',')] # prepare individual hashtags\n",
    "        cnt.update(htList) # method update of Counter takes a list and updates all keys\n",
    "        \n",
    "_ = df['hashtags'].apply(countAllHashtags)\n",
    "all_hashtagfreq = cnt.most_common(25)\n",
    "all_hashtagfreq"
   ]
  },
  {
   "cell_type": "markdown",
   "id": "fd000557-006e-4f09-9a11-4283cc0a473a",
   "metadata": {},
   "source": [
    "##### The following code collects frequency for all hashtags shown in **control** accounts."
   ]
  },
  {
   "cell_type": "code",
   "execution_count": 9,
   "id": "98ff3e77-1604-43e5-94c7-c689644bd07c",
   "metadata": {},
   "outputs": [
    {
     "data": {
      "text/plain": [
       "[(\"'fyp'\", 317),\n",
       " (\"['fyp'\", 240),\n",
       " (\"'viral'\", 213),\n",
       " (\"'foryou'\", 183),\n",
       " (\"'fyp%E3%82%B7'\", 142),\n",
       " (\"'foryoupage'\", 125),\n",
       " (\"'fyp']\", 93),\n",
       " (\"'funny'\", 82),\n",
       " (\"'trending'\", 70),\n",
       " (\"'fyp%E3%82%B7%E3%82%9Aviral'\", 67),\n",
       " (\"'viralvideo'\", 60),\n",
       " (\"['foryou'\", 43),\n",
       " (\"'tiktok'\", 43),\n",
       " (\"'fy'\", 43),\n",
       " (\"'viral']\", 38),\n",
       " (\"['fyp%E3%82%B7'\", 38),\n",
       " (\"'fypage'\", 36),\n",
       " (\"'foryou']\", 33),\n",
       " (\"'therian'\", 31),\n",
       " (\"'fyppppppppppppppppppppppp'\", 31),\n",
       " (\"'relatable'\", 31),\n",
       " (\"'couple'\", 31),\n",
       " (\"'therianthropy'\", 28),\n",
       " (\"['viral'\", 28),\n",
       " (\"['fyp']\", 28)]"
      ]
     },
     "execution_count": 9,
     "metadata": {},
     "output_type": "execute_result"
    }
   ],
   "source": [
    "control = pd.concat([ep_cntrl,ss_cntrl,fg_cntrl,lg_cntrl,dl_cntrl])\n",
    "controlCnt = Counter()\n",
    "def countAllHashtags(cell):\n",
    "    \"\"\"\n",
    "    Takes a string or a NaN value. Splits the srings to find hashtags, updates a Counter object\n",
    "    (a global variable) to keep track of all hashtags.\n",
    "    \"\"\"\n",
    "    if type(cell) == str: # avoid NaN values, which are float\n",
    "        htList = [el.strip() for el in cell.split(',')] # prepare individual hashtags\n",
    "        controlCnt.update(htList) # method update of Counter takes a list and updates all keys\n",
    "        \n",
    "_ = control['hashtags'].apply(countAllHashtags)\n",
    "control_hashtagfreq = controlCnt.most_common(25)\n",
    "control_hashtagfreq"
   ]
  },
  {
   "cell_type": "markdown",
   "id": "4f924dd8-a6f8-48c3-806e-9108cd32083c",
   "metadata": {},
   "source": [
    "##### The following code collects frequency for all hashtags shown in **active** accounts."
   ]
  },
  {
   "cell_type": "code",
   "execution_count": 10,
   "id": "b91398f2-1499-4047-972d-076cb9de6393",
   "metadata": {},
   "outputs": [
    {
     "data": {
      "text/plain": [
       "[(\"'fyp'\", 755),\n",
       " (\"['fyp'\", 665),\n",
       " (\"'viral'\", 509),\n",
       " (\"'foryou'\", 484),\n",
       " (\"'fyp%E3%82%B7'\", 289),\n",
       " (\"'fyp']\", 239),\n",
       " (\"'foryoupage'\", 236),\n",
       " (\"'funny'\", 193),\n",
       " (\"'trending'\", 184),\n",
       " (\"'fyp%E3%82%B7%E3%82%9Aviral'\", 142),\n",
       " (\"'relatable'\", 129),\n",
       " (\"['foryou'\", 120),\n",
       " (\"['fyp']\", 112),\n",
       " (\"'tiktok'\", 108),\n",
       " (\"['fyp%E3%82%B7'\", 107),\n",
       " (\"'viral']\", 107),\n",
       " (\"'foryou']\", 96),\n",
       " (\"'viralvideo'\", 94),\n",
       " (\"'trend'\", 91),\n",
       " (\"'couple'\", 91),\n",
       " (\"'dance'\", 73),\n",
       " (\"'fy'\", 71),\n",
       " (\"'blowthisup'\", 70),\n",
       " (\"'foryoupage']\", 67),\n",
       " (\"'couplegoals'\", 66)]"
      ]
     },
     "execution_count": 10,
     "metadata": {},
     "output_type": "execute_result"
    }
   ],
   "source": [
    "active = pd.concat([ep_activ,ss_activ,fg_activ,lg_activ,dl_activ])\n",
    "activeCnt = Counter()\n",
    "def countAllHashtags(cell):\n",
    "    \"\"\"\n",
    "    Takes a string or a NaN value. Splits the srings to find hashtags, updates a Counter object\n",
    "    (a global variable) to keep track of all hashtags.\n",
    "    \"\"\"\n",
    "    if type(cell) == str: # avoid NaN values, which are float\n",
    "        htList = [el.strip() for el in cell.split(',')] # prepare individual hashtags\n",
    "        activeCnt.update(htList) # method update of Counter takes a list and updates all keys\n",
    "        \n",
    "_ = active['hashtags'].apply(countAllHashtags)\n",
    "active_hashtagfreq = activeCnt.most_common(25)\n",
    "active_hashtagfreq"
   ]
  },
  {
   "cell_type": "markdown",
   "id": "7446088b-d8e8-4606-bc44-70a879e15c6a",
   "metadata": {},
   "source": [
    "##### Cleaning the hashtag list and turning it into a dataframe."
   ]
  },
  {
   "cell_type": "code",
   "execution_count": 11,
   "id": "55821f7b-c2d6-4986-b625-696188f27f54",
   "metadata": {},
   "outputs": [],
   "source": [
    "delete = ['fyp', 'foryou', 'fy', 'fypage', 'foryoupage', 'viral','trending','tiktok']\n",
    "def clean_hashtag(hashfreq):\n",
    "    \"\"\"\n",
    "    Clean the hashtag list and turn it into a dataframe\n",
    "    \"\"\"\n",
    "    hashtags = []\n",
    "    freqs = []\n",
    "    for hashtag, freq in hashfreq:\n",
    "        #change the hashtag into readable format\n",
    "        if '%' in hashtag:\n",
    "            hashtag = urllib.parse.unquote(hashtag)\n",
    "        #reformat the hashtags\n",
    "        hashtag = hashtag.replace(\"'\",\"\")\n",
    "        hashtag = hashtag.replace(\"[\",\"\")\n",
    "        hashtag = hashtag.replace(\"]\",\"\")\n",
    "        #check if we want the hashtag\n",
    "        if (hashtag not in delete) and ('fyp' not in hashtag):\n",
    "            hashtags.append(hashtag)\n",
    "            freqs.append(freq)\n",
    "    #generate dataframe\n",
    "    df = pd.DataFrame()\n",
    "    df[\"hashtag\"] = hashtags\n",
    "    df[\"freq\"] = freqs\n",
    "    return df"
   ]
  },
  {
   "cell_type": "markdown",
   "id": "1c7afd52-97f6-44b8-b0eb-9a28f4dc1976",
   "metadata": {},
   "source": [
    "##### Creating a bargraph representation of frequency."
   ]
  },
  {
   "cell_type": "code",
   "execution_count": 19,
   "id": "04d4cbaf-d6be-4a01-bff0-c8fc0c186c61",
   "metadata": {},
   "outputs": [],
   "source": [
    "  def get_hashfreq_bar(df, group):\n",
    "    \"\"\"\n",
    "    Takes in a dataframe as an input and generate a bar graph \n",
    "    \"\"\"\n",
    "    plt.bar(df[\"hashtag\"],df[\"freq\"], color ='lightseagreen', width = 0.4)\n",
    " \n",
    "    plt.xlabel(\"Hashtags\")\n",
    "    plt.ylabel(\"No. of times the hashtage appears\")\n",
    "    plt.title(f\"Frequencies of Hashtag for {group} group\")\n",
    "    plt.xticks(rotation=45)\n",
    "\n",
    "    plt.savefig(f'/Users/dorajyl/Desktop/w/CS315/CS315_Project1/data_analysis/vizualizations/{group}_bargraph.png', bbox_inches='tight')\n",
    "    plt.show()"
   ]
  },
  {
   "cell_type": "markdown",
   "id": "94ffd992-16bb-4aff-9003-34d19f0ee92b",
   "metadata": {},
   "source": [
    "##### Creating a piechart representation of frequency."
   ]
  },
  {
   "cell_type": "code",
   "execution_count": 14,
   "id": "cfa38085-a536-4b29-a822-5c131be7ae92",
   "metadata": {},
   "outputs": [],
   "source": [
    "def get_hashfreq_pie(df, group):\n",
    "    \"\"\"\n",
    "    Takes in a dataframe as an input and generate a pie chart \n",
    "    \"\"\"\n",
    "    df[\"percent\"] = (df['freq']/df['freq'].sum())*100\n",
    "    y = df[\"freq\"]\n",
    "    mylabels = df[\"hashtag\"]\n",
    "\n",
    "    plt.pie(y, labels = mylabels)\n",
    "    plt.title(f\"Frequencies of Hashtag for {group} group\")\n",
    "\n",
    "    plt.savefig(f'/Users/dorajyl/Desktop/w/CS315/CS315_Project1/data_analysis/vizualizations/{group}_piechart.png', bbox_inches='tight')\n",
    "    plt.show() "
   ]
  },
  {
   "cell_type": "markdown",
   "id": "98ea01f3-c376-4323-8ac2-b46e83e6ad81",
   "metadata": {},
   "source": [
    "##### Cleaning hashtags for **all**, **active**, and **control**."
   ]
  },
  {
   "cell_type": "code",
   "execution_count": 15,
   "id": "9f5e5557-2ec8-4fc7-9176-307741d96539",
   "metadata": {},
   "outputs": [],
   "source": [
    "df_all = clean_hashtag(all_hashtagfreq)\n",
    "df_active = clean_hashtag(active_hashtagfreq)\n",
    "df_control = clean_hashtag(control_hashtagfreq)"
   ]
  },
  {
   "cell_type": "markdown",
   "id": "9fd95e53-a739-4f7b-b3b0-7ba3ac0ca5d8",
   "metadata": {},
   "source": [
    "##### Creating a bargraph representation of frequency "
   ]
  },
  {
   "cell_type": "code",
   "execution_count": 22,
   "id": "2d3010e2-6719-4792-a63b-30b118b4df2c",
   "metadata": {},
   "outputs": [
    {
     "data": {
      "image/png": "[encoded data removed]",
      "text/plain": [
       "<Figure size 640x480 with 1 Axes>"
      ]
     },
     "metadata": {},
     "output_type": "display_data"
    }
   ],
   "source": [
    "get_hashfreq_bar(df_control, 'control')"
   ]
  },
  {
   "cell_type": "markdown",
   "id": "9302fd47-767b-4448-b543-a1069cff0d30",
   "metadata": {},
   "source": [
    "##### Creating a piechart representation of frequency of "
   ]
  },
  {
   "cell_type": "code",
   "execution_count": 23,
   "id": "dcaa94fc-1ebc-4803-80f4-bac347e40384",
   "metadata": {},
   "outputs": [
    {
     "data": {
      "image/png": "[encoded data removed]",
      "text/plain": [
       "<Figure size 640x480 with 1 Axes>"
      ]
     },
     "metadata": {},
     "output_type": "display_data"
    }
   ],
   "source": [
    "get_hashfreq_pie(df_active, 'active')"
   ]
  },
  {
   "cell_type": "markdown",
   "id": "2b2cf62d-fb74-41dc-adb0-367ad8728078",
   "metadata": {},
   "source": [
    "## **plot_differences**\n",
    "\n",
    "Function to create differences and regression graph, plots the difference between the median control and median active metric.\n",
    "\n",
    "##### **Parameters**:\n",
    "- **initial**: *str*, the initials of one of section 1 group 2's members, either \"ep\", \"ss\", \"Dl\", \"lg\", \"fg\", or \"fn\"\n",
    "- **columns_to_plot**: a *list* of the difference columns to plot in the graph:\n",
    "  - Options are ['likes_log_dif',likes_dif','comments_dif','shares_dif','saves_dif']"
   ]
  },
  {
   "cell_type": "code",
   "execution_count": null,
   "id": "00d4d86b-6582-4c09-b4dc-e61ccd3e83b4",
   "metadata": {},
   "outputs": [],
   "source": [
    "def plot_differences(initial,columns_to_plot):\n",
    "    '''\n",
    "     Plots the difference between the median control and median active metric.\n",
    "    \n",
    "    initial: the initials of one of section 1 group 2's members, either \"ep\", \"ss\", \"Dl\", \"lg\", \"fg\", or \"fn\"\n",
    "    columns_to_plot: a list of the difference columns to plot in the graph:\n",
    "        Options are ['likes_log_dif',likes_dif','comments_dif','shares_dif','saves_dif']\n",
    "    '''\n",
    "    df_activ = df[df['batchID'].str.contains(f'{initial}_activ')]\n",
    "    df_cntrl = df[df['batchID'].str.contains(f'{initial}_cntrl')]\n",
    "   \n",
    "    #get descriptive statistic for df by index\n",
    "    metrics = [\"likes\", \"comments\", \"shares\", \"saves\"]\n",
    "    df_activ_group = df_activ.groupby('run')[metrics].median()#.mean()\n",
    "    df_cntrl_group = df_cntrl.groupby('run')[metrics].median()#.mean()\n",
    "\n",
    "    # rename columns for clarity\n",
    "    activ_column_mapping = {'likes':'likes_activ','comments':'comments_activ',\n",
    "                            'shares':'shares_activ','saves':'saves_activ'}\n",
    "    cntrl_column_mapping = {'likes':'likes_cntrl','comments':'comments_cntrl',\n",
    "                            'shares':'shares_cntrl','saves':'saves_cntrl'}\n",
    "    df_activ_group.rename(columns=activ_column_mapping,inplace=True)\n",
    "    df_cntrl_group.rename(columns=cntrl_column_mapping,inplace=True)\n",
    "\n",
    "    # find the difference in means for all the metrics\n",
    "    df_dif = pd.concat([df_activ_group,df_cntrl_group],axis=1)\n",
    "    df_dif.dropna(inplace=True) # drop the rows with NA\n",
    "    df_dif['likes_dif'] = df_dif[\"likes_cntrl\"] - df_dif['likes_activ']\n",
    "    df_dif['comments_dif'] = df_dif[\"comments_cntrl\"] - df_dif['comments_activ']\n",
    "    df_dif['shares_dif'] = df_dif[\"shares_cntrl\"] - df_dif['shares_activ']\n",
    "    df_dif['saves_dif'] = df_dif[\"saves_cntrl\"] - df_dif['saves_activ']\n",
    "   \n",
    "    # log likes\n",
    "    df_dif['log_likes_dif'] = np.log1p(df_dif['likes_dif'])\n",
    "   \n",
    "    # Plot the differences\n",
    "    plt.figure(figsize=(15, 6)) # (width,height)\n",
    "   \n",
    "    # Create the line plot\n",
    "    dif_cols = columns_to_plot\n",
    "    plot_colors = ['lightblue','lightgreen','orange','red']\n",
    "    for i in range(len(dif_cols)):\n",
    "        sns.lineplot(x='run', y=dif_cols[i],data=df_dif,\n",
    "                     linewidth = 2,color=plot_colors[i],label=f'{dif_cols[i]} Difference')\n",
    "   \n",
    "    # Add the regression line\n",
    "    reg_colors = ['blue','darkgreen','darkorange','darkred']\n",
    "   \n",
    "    for i in range(len(dif_cols)):\n",
    "        sns.regplot(x=df_dif.index, y=dif_cols[i],data=df_dif,ci=None,\n",
    "                    color=reg_colors[i],line_kws={'linewidth':3},label=f'{dif_cols[i]} Regression')\n",
    "       \n",
    "    # Edit Graph\n",
    "    plt.title(f'Difference in Median Metric by Run for {initial} Data')\n",
    "    plt.xlabel('Runs')\n",
    "    plt.xticks(df_dif.index)\n",
    "    plt.ylabel('Difference (control - active)')\n",
    "    plt.legend()\n",
    "\n",
    "    plt.savefig(f'/Users/fernandagonzalez/Desktop/school/CS 315/CS315_Project1/data_analysis/vizualizations/{initial}_differences.png', bbox_inches='tight')\n",
    "    plt.show()\n",
    "\n",
    "    return df_dif"
   ]
  },
  {
   "cell_type": "code",
   "execution_count": null,
   "id": "8a444962-87b0-4c93-b19b-72a51d5d3df1",
   "metadata": {},
   "outputs": [],
   "source": [
    "features = ['likes_dif','comments_dif','shares_dif','saves_dif']\n",
    "for feature in features:\n",
    "    plot_differences('ep',[feature])"
   ]
  },
  {
   "cell_type": "markdown",
   "id": "3bce00f4-10da-466b-8419-75f5ed44a429",
   "metadata": {},
   "source": [
    "## **jaccard_similarity**\n",
    "\n",
    "Takes in two columns of the dataframe and calculates their similarities."
   ]
  },
  {
   "cell_type": "code",
   "execution_count": null,
   "id": "381202e1-5f61-4124-b74c-1f1a3a87c475",
   "metadata": {},
   "outputs": [],
   "source": [
    "def createPostID(row):\n",
    "    return f\"{row['author']}_{row['saves']}\"\n",
    "\n",
    "df['postID'] = df.apply(createPostID, axis=1)\n",
    "df"
   ]
  },
  {
   "cell_type": "code",
   "execution_count": null,
   "id": "a72b7dc7-9c32-4dba-8f0f-86b7b051d281",
   "metadata": {},
   "outputs": [],
   "source": [
    "# For each team member, create a separate dataframe containing their active data\n",
    "ep_activ = df[df['batchID'].str.contains('ep_activ')]\n",
    "ss_activ = df[df['batchID'].str.contains('ss_activ')]\n",
    "fg_activ = df[df['batchID'].str.contains('fg_activ')]\n",
    "fn_activ = df[df['batchID'].str.contains('fn_activ')]\n",
    "lg_activ = df[df['batchID'].str.contains('lg_activ')]\n",
    "dl_activ = df[df['batchID'].str.contains('Dl_activ')]\n",
    "\n",
    "# For each team member, create a separate dataframe containing their control data\n",
    "ep_cntrl = df[df['batchID'].str.contains('ep_cntrl')]\n",
    "ss_cntrl = df[df['batchID'].str.contains('ss_cntrl')]\n",
    "fg_cntrl = df[df['batchID'].str.contains('fg_cntrl')]\n",
    "fn_cntrl = df[df['batchID'].str.contains('fn_cntrl')]\n",
    "lg_cntrl = df[df['batchID'].str.contains('lg_cntrl')]\n",
    "dl_cntrl = df[df['batchID'].str.contains('Dl_cntrl')]"
   ]
  },
  {
   "cell_type": "code",
   "execution_count": null,
   "id": "5c1172d2-f7aa-473a-98ae-f7eb52ae67c8",
   "metadata": {},
   "outputs": [],
   "source": [
    "def jaccard_similarity(list1, list2):\n",
    "    \"\"\"\n",
    "    Takes in two columns of the dataframe and calculates their similarities.\n",
    "    \"\"\"\n",
    "    intersection = len(list(set(list1).intersection(list2)))\n",
    "    union = (len(set(list1)) + len(set(list2))) - intersection\n",
    "    \n",
    "    return float(intersection) / union"
   ]
  },
  {
   "cell_type": "markdown",
   "id": "1bf04568-2a57-4a94-85d8-675b4cda19a3",
   "metadata": {},
   "source": [
    "##### Jaccard similarity of content creators. Running for each member."
   ]
  },
  {
   "cell_type": "code",
   "execution_count": null,
   "id": "73a73fae-859c-4585-b5de-65678e07f4d3",
   "metadata": {},
   "outputs": [],
   "source": [
    "# Dora\n",
    "dl_cntrl_authors = dl_cntrl['author']\n",
    "dl_exper_authors = dl_activ['author']\n",
    "dl_author_jaccard = jaccard_similarity(dl_cntrl_authors, dl_exper_authors)"
   ]
  },
  {
   "cell_type": "code",
   "execution_count": null,
   "id": "b2158f42-2850-4b21-9222-c54c75d387db",
   "metadata": {},
   "outputs": [],
   "source": [
    "# Edith\n",
    "ep_cntrl_authors = ep_cntrl['author']\n",
    "ep_exper_authors = ep_activ['author']\n",
    "ep_author_jaccard = jaccard_similarity(ep_cntrl_authors, ep_exper_authors)"
   ]
  },
  {
   "cell_type": "code",
   "execution_count": null,
   "id": "6c9f988c-eb58-40aa-b209-afbb2ce13f21",
   "metadata": {},
   "outputs": [],
   "source": [
    "# Fernanda\n",
    "fg_cntrl_authors = fg_cntrl['author']\n",
    "fg_exper_authors = fg_activ['author']\n",
    "fg_author_jaccard = jaccard_similarity(fg_cntrl_authors, fg_exper_authors)"
   ]
  },
  {
   "cell_type": "code",
   "execution_count": null,
   "id": "49d20ba8-0e3f-40a8-9030-44841532cf30",
   "metadata": {},
   "outputs": [],
   "source": [
    "# Fridah\n",
    "fn_cntrl_authors = fn_cntrl['author']\n",
    "fn_exper_authors = fn_activ['author']\n",
    "fn_author_jaccard = jaccard_similarity(fn_cntrl_authors, fn_exper_authors)"
   ]
  },
  {
   "cell_type": "code",
   "execution_count": null,
   "id": "3ea457bd-1a15-44f0-9049-31dbcb37a5a1",
   "metadata": {},
   "outputs": [],
   "source": [
    "# Lucia\n",
    "lg_cntrl_authors = fg_cntrl['author']\n",
    "lg_exper_authors = fg_activ['author']\n",
    "lg_author_jaccard = jaccard_similarity(lg_cntrl_authors, lg_exper_authors)"
   ]
  },
  {
   "cell_type": "code",
   "execution_count": null,
   "id": "102ef2d7-6318-4db5-877d-985738f2096f",
   "metadata": {},
   "outputs": [],
   "source": [
    "# Sazma\n",
    "ss_cntrl_authors = ss_cntrl['author']\n",
    "ss_exper_authors = ss_activ['author']\n",
    "ss_author_jaccard = jaccard_similarity(ss_cntrl_authors, ss_exper_authors)"
   ]
  },
  {
   "cell_type": "code",
   "execution_count": null,
   "id": "511208c4-d3d3-4bc4-91ce-d7b338d5f74c",
   "metadata": {},
   "outputs": [],
   "source": [
    "author_jaccard = [dl_author_jaccard, ep_author_jaccard, fg_author_jaccard, fn_author_jaccard, lg_author_jaccard, ss_author_jaccard]"
   ]
  },
  {
   "cell_type": "markdown",
   "id": "ebc05f6b-5215-445c-b441-f9b09c6380ff",
   "metadata": {},
   "source": [
    "##### Jaccard similarity of posts. Running for each member."
   ]
  },
  {
   "cell_type": "code",
   "execution_count": null,
   "id": "e68b17ae-b5ba-4afe-bf22-961e3fe7ffbf",
   "metadata": {},
   "outputs": [],
   "source": [
    "# Dora\n",
    "dl_cntrl_posts = dl_cntrl['postID']\n",
    "dl_exper_posts = dl_activ['postID']\n",
    "dl_posts_jaccard = jaccard_similarity(dl_cntrl_posts, dl_exper_posts)"
   ]
  },
  {
   "cell_type": "code",
   "execution_count": null,
   "id": "dc2177a4-38ee-4262-90d2-b4691c001716",
   "metadata": {},
   "outputs": [],
   "source": [
    "# Edith\n",
    "ep_cntrl_posts = ep_cntrl['postID']\n",
    "ep_exper_posts = ep_activ['postID']\n",
    "ep_posts_jaccard = jaccard_similarity(ep_cntrl_posts, ep_exper_posts)"
   ]
  },
  {
   "cell_type": "code",
   "execution_count": null,
   "id": "1e279436-6766-44b4-be02-1d11944b4b68",
   "metadata": {},
   "outputs": [],
   "source": [
    "# Fernanda\n",
    "fg_cntrl_posts = fg_cntrl['postID']\n",
    "fg_exper_posts = fg_activ['postID']\n",
    "fg_posts_jaccard = jaccard_similarity(fg_cntrl_posts, fg_exper_posts)"
   ]
  },
  {
   "cell_type": "code",
   "execution_count": null,
   "id": "6659f592-3cd3-433d-a933-edc597bdfd0b",
   "metadata": {},
   "outputs": [],
   "source": [
    "# Fridah\n",
    "fn_cntrl_posts = fn_cntrl['postID']\n",
    "fn_exper_posts = fn_activ['postID']\n",
    "fn_posts_jaccard = jaccard_similarity(fn_cntrl_posts, fn_exper_posts)"
   ]
  },
  {
   "cell_type": "code",
   "execution_count": null,
   "id": "9948cac3-387d-412a-bd53-d5269804f566",
   "metadata": {},
   "outputs": [],
   "source": [
    "# Lucia\n",
    "lg_cntrl_posts = fg_cntrl['postID']\n",
    "lg_exper_posts = fg_activ['postID']\n",
    "lg_posts_jaccard = jaccard_similarity(lg_cntrl_posts, lg_exper_posts)"
   ]
  },
  {
   "cell_type": "code",
   "execution_count": null,
   "id": "e1295178-3709-4804-b1ab-3afaa949bcac",
   "metadata": {},
   "outputs": [],
   "source": [
    "# Sazma\n",
    "ss_cntrl_posts = ss_cntrl['postID']\n",
    "ss_exper_posts = ss_activ['postID']\n",
    "ss_posts_jaccard = jaccard_similarity(ss_cntrl_posts, ss_exper_posts)"
   ]
  },
  {
   "cell_type": "code",
   "execution_count": null,
   "id": "f1890b96-aeba-427a-a38b-2b79d6680cd5",
   "metadata": {},
   "outputs": [],
   "source": [
    "posts_jaccard = [dl_posts_jaccard, ep_posts_jaccard, fg_posts_jaccard, fn_posts_jaccard, lg_posts_jaccard, ss_posts_jaccard]"
   ]
  },
  {
   "cell_type": "markdown",
   "id": "2d1b7bb5-53c7-4ab8-a7f2-5f85edc1de1e",
   "metadata": {},
   "source": [
    "##### Jaccard similarity of sounds. Running for each member."
   ]
  },
  {
   "cell_type": "code",
   "execution_count": null,
   "id": "bcc68dd6-356c-478e-a3a9-a2fcbc929615",
   "metadata": {},
   "outputs": [],
   "source": [
    "# Dora\n",
    "dl_cntrl_music = dl_cntrl['music']\n",
    "dl_exper_music = dl_activ['postID']\n",
    "dl_music_jaccard = jaccard_similarity(dl_cntrl_music, dl_exper_music)"
   ]
  },
  {
   "cell_type": "code",
   "execution_count": null,
   "id": "98d9fca9-f8e6-4a90-92f0-9bbc8f299f23",
   "metadata": {},
   "outputs": [],
   "source": [
    "# Edith\n",
    "ep_cntrl_music = ep_cntrl['music']\n",
    "ep_exper_music = ep_activ['music']\n",
    "ep_music_jaccard = jaccard_similarity(ep_cntrl_music, ep_exper_music)"
   ]
  },
  {
   "cell_type": "code",
   "execution_count": null,
   "id": "5febf322-d342-4e59-b7f9-2a9f624dd965",
   "metadata": {},
   "outputs": [],
   "source": [
    "# Fernanda\n",
    "fg_cntrl_music = fg_cntrl['music']\n",
    "fg_exper_music = fg_activ['music']\n",
    "fg_music_jaccard = jaccard_similarity(fg_cntrl_music, fg_exper_music)"
   ]
  },
  {
   "cell_type": "code",
   "execution_count": null,
   "id": "bdf5db8f-798e-4656-a84f-82af199139a4",
   "metadata": {},
   "outputs": [],
   "source": [
    "# Fridah\n",
    "fn_cntrl_music = fn_cntrl['music']\n",
    "fn_exper_music = fn_activ['music']\n",
    "fn_music_jaccard = jaccard_similarity(fn_cntrl_music, fn_exper_music)"
   ]
  },
  {
   "cell_type": "code",
   "execution_count": null,
   "id": "c3ff125c-b55b-4631-b61e-2a011e5d3338",
   "metadata": {},
   "outputs": [],
   "source": [
    "# Lucia\n",
    "lg_cntrl_music = fg_cntrl['music']\n",
    "lg_exper_music = fg_activ['music']\n",
    "lg_music_jaccard = jaccard_similarity(lg_cntrl_music, lg_exper_music)"
   ]
  },
  {
   "cell_type": "code",
   "execution_count": null,
   "id": "9f18ebcf-9681-4aee-982a-ee829852acb9",
   "metadata": {},
   "outputs": [],
   "source": [
    "# Sazma\n",
    "ss_cntrl_music = ss_cntrl['music']\n",
    "ss_exper_music = ss_activ['music']\n",
    "ss_music_jaccard = jaccard_similarity(ss_cntrl_music, ss_exper_music)"
   ]
  },
  {
   "cell_type": "code",
   "execution_count": null,
   "id": "9162c8c7-819c-4e9e-81bb-c9612d01831a",
   "metadata": {},
   "outputs": [],
   "source": [
    "music_jaccard = [dl_music_jaccard, ep_music_jaccard, fg_music_jaccard, fn_music_jaccard, lg_music_jaccard, ss_music_jaccard]"
   ]
  },
  {
   "cell_type": "markdown",
   "id": "70d4dfdd-030a-422b-9346-4259fef629cf",
   "metadata": {},
   "source": [
    "##### Dataframe to display all the jaccard indices."
   ]
  },
  {
   "cell_type": "code",
   "execution_count": null,
   "id": "3c888669-ab21-4d69-aadf-eb8b7b34c29e",
   "metadata": {},
   "outputs": [],
   "source": [
    "initials = ['dl', 'ep', 'fg', 'fn', 'lg', 'ss']\n",
    "\n",
    "combined_indices = pd.DataFrame(columns = ['content creators', 'posts', 'music'], index = initials)\n",
    "combined_indices['content creators'] = author_jaccard\n",
    "combined_indices['posts'] = posts_jaccard\n",
    "combined_indices['music'] = music_jaccard\n",
    "\n",
    "combined_indices"
   ]
  },
  {
   "cell_type": "markdown",
   "id": "3220dbcc-efff-4e81-a6d0-07dc2fbb6644",
   "metadata": {},
   "source": [
    "## **get_top_5**\n",
    "\n",
    "Finds the top five creators that each member had on both active and control accounts."
   ]
  },
  {
   "cell_type": "code",
   "execution_count": null,
   "id": "b48adda5-cbc2-413c-a0b2-a50c32f8a9d2",
   "metadata": {},
   "outputs": [],
   "source": [
    "def get_top_5(auth_list):\n",
    "    # Creates a dictionary that stores how many times a given content creator appears in the data\n",
    "    auth_dict = {}\n",
    "    for author in auth_list:\n",
    "        if author in auth_dict:\n",
    "            auth_dict[author] += 1\n",
    "        else:\n",
    "            auth_dict[author] = 1\n",
    "            \n",
    "    \n",
    "    # Sorts in decreasing order to get the most popular ones\n",
    "    sorted_authors = sorted(auth_dict.items(), key = lambda item: item[1], reverse = True)\n",
    "    \n",
    "    # Top 5 creators\n",
    "    authors = []\n",
    "    counts = []\n",
    "    for author, count in sorted_authors[:5]:\n",
    "        authors.append(author)\n",
    "        counts.append(count)\n",
    "    \n",
    "    return authors, counts"
   ]
  },
  {
   "cell_type": "markdown",
   "id": "3d41b9f7-728e-4596-813f-983837c9e155",
   "metadata": {},
   "source": [
    "##### Running **get_top_5** with each members data."
   ]
  },
  {
   "cell_type": "code",
   "execution_count": null,
   "id": "9c0a0b57-ec69-466c-9481-ce4a9d698033",
   "metadata": {},
   "outputs": [],
   "source": [
    "# Control popular content creators\n",
    "dl_cntrl_5_authors, dl_cntrl_5_count = get_top_5(dl_cntrl_authors)\n",
    "ep_cntrl_5_authors, ep_cntrl_5_count = get_top_5(ep_cntrl_authors)\n",
    "fg_cntrl_5_authors, fg_cntrl_5_count = get_top_5(fg_cntrl_authors)\n",
    "fn_cntrl_5_authors, fn_cntrl_5_count = get_top_5(fn_cntrl_authors)\n",
    "lg_cntrl_5_authors, lg_cntrl_5_count = get_top_5(lg_cntrl_authors)\n",
    "ss_cntrl_5_authors, ss_cntrl_5_count = get_top_5(ss_cntrl_authors)"
   ]
  },
  {
   "cell_type": "code",
   "execution_count": null,
   "id": "16682162-3fef-4840-a8fc-144e99fd4e68",
   "metadata": {},
   "outputs": [],
   "source": [
    "# Experiment popular content creators\n",
    "dl_exper_5_authors, dl_exper_5_count = get_top_5(dl_exper_authors)\n",
    "ep_exper_5_authors, ep_exper_5_count = get_top_5(ep_exper_authors)\n",
    "fg_exper_5_authors, fg_exper_5_count = get_top_5(fg_exper_authors)\n",
    "fn_exper_5_authors, fn_exper_5_count = get_top_5(fn_exper_authors)\n",
    "lg_exper_5_authors, lg_exper_5_count = get_top_5(lg_exper_authors)\n",
    "ss_exper_5_authors, ss_exper_5_count = get_top_5(ss_exper_authors)"
   ]
  },
  {
   "cell_type": "markdown",
   "id": "79456988-bd23-4040-9442-be8bfe702c81",
   "metadata": {},
   "source": [
    "##### Starting vizualization for each member based on data above."
   ]
  },
  {
   "cell_type": "code",
   "execution_count": null,
   "id": "9f2635ab-4807-4141-ab09-23c3b9cb207d",
   "metadata": {},
   "outputs": [],
   "source": [
    "# Dora\n",
    "top_5_fig = plt.figure(figsize=(8, 5))\n",
    "plt.pie(dl_exper_5_count, labels = dl_exper_5_authors)\n",
    "plt.title(\"Top 5 content creators in Dora's active bot\")\n",
    "\n",
    "plt.savefig(f'/Users/fernandagonzalez/Desktop/school/CS 315/CS315_Project1/data_analysis/vizualizations/dora_top5_activ.png', bbox_inches='tight')\n",
    "plt.show()\n",
    "\n",
    "top_5_fig = plt.figure(figsize=(8, 5))\n",
    "plt.pie(dl_cntrl_5_count, labels = dl_cntrl_5_authors)\n",
    "plt.title(\"Top 5 content creators in Dora's control bot\")\n",
    "\n",
    "plt.savefig(f'/Users/fernandagonzalez/Desktop/school/CS 315/CS315_Project1/data_analysis/vizualizations/dora_top5_cntrl.png', bbox_inches='tight')\n",
    "plt.show()"
   ]
  },
  {
   "cell_type": "code",
   "execution_count": null,
   "id": "6fa95243-a502-409a-88ce-df7477d9fa90",
   "metadata": {},
   "outputs": [],
   "source": [
    "# Edith\n",
    "top_5_fig = plt.figure(figsize=(8, 5))\n",
    "plt.pie(ep_exper_5_count, labels = ep_exper_5_authors)\n",
    "plt.title(\"Top 5 content creators in Edith's active bot\")\n",
    "\n",
    "plt.savefig(f'/Users/fernandagonzalez/Desktop/school/CS 315/CS315_Project1/data_analysis/vizualizations/edith_top5_activ.png', bbox_inches='tight')\n",
    "plt.show()\n",
    "\n",
    "top_5_fig = plt.figure(figsize=(8, 5))\n",
    "plt.pie(ep_cntrl_5_count, labels = ep_cntrl_5_authors)\n",
    "plt.title(\"Top 5 content creators in Edith's control bot\")\n",
    "\n",
    "plt.savefig(f'/Users/fernandagonzalez/Desktop/school/CS 315/CS315_Project1/data_analysis/vizualizations/edith_top5_cntrl.png', bbox_inches='tight')\n",
    "plt.show()"
   ]
  },
  {
   "cell_type": "code",
   "execution_count": null,
   "id": "5febae78-d6bb-437c-b547-d39915c0c2cb",
   "metadata": {},
   "outputs": [],
   "source": [
    "# Fernanda\n",
    "top_5_fig = plt.figure(figsize=(8, 5))\n",
    "plt.pie(fg_exper_5_count, labels = fg_exper_5_authors)\n",
    "plt.title(\"Top 5 content creators in Fernanda's active bot\")\n",
    "\n",
    "plt.savefig(f'/Users/fernandagonzalez/Desktop/school/CS 315/CS315_Project1/data_analysis/vizualizations/fernanda_top5_activ.png', bbox_inches='tight')\n",
    "plt.show()\n",
    "\n",
    "top_5_fig = plt.figure(figsize=(8, 5))\n",
    "plt.pie(fg_cntrl_5_count, labels = fg_cntrl_5_authors)\n",
    "plt.title(\"Top 5 content creators in Fernanda's control bot\")\n",
    "\n",
    "plt.savefig(f'/Users/fernandagonzalez/Desktop/school/CS 315/CS315_Project1/data_analysis/vizualizations/fernanda_top5_cntrl.png', bbox_inches='tight')\n",
    "plt.show()"
   ]
  },
  {
   "cell_type": "code",
   "execution_count": null,
   "id": "87a1de41-9473-4b1a-9fcf-c71a511cd236",
   "metadata": {},
   "outputs": [],
   "source": [
    "# Fridah\n",
    "top_5_fig = plt.figure(figsize=(8, 5))\n",
    "plt.pie(fn_exper_5_count, labels = fn_exper_5_authors)\n",
    "plt.title(\"Top 5 content creators in Fridah's active bot\")\n",
    "\n",
    "plt.savefig(f'/Users/fernandagonzalez/Desktop/school/CS 315/CS315_Project1/data_analysis/vizualizations/fridah_top5_activ.png', bbox_inches='tight')\n",
    "plt.show()\n",
    "\n",
    "top_5_fig = plt.figure(figsize=(8, 5))\n",
    "plt.pie(fn_cntrl_5_count, labels = fn_cntrl_5_authors)\n",
    "plt.title(\"Top 5 content creators in Fridah's control bot\")\n",
    "\n",
    "plt.savefig(f'/Users/fernandagonzalez/Desktop/school/CS 315/CS315_Project1/data_analysis/vizualizations/fridah_top5_cntrl.png', bbox_inches='tight')\n",
    "plt.show()"
   ]
  },
  {
   "cell_type": "code",
   "execution_count": null,
   "id": "e04953ba-b8da-4a74-bad2-b8c710fd7eb7",
   "metadata": {},
   "outputs": [],
   "source": [
    "# Lucia\n",
    "top_5_fig = plt.figure(figsize=(8, 5))\n",
    "plt.pie(lg_exper_5_count, labels = lg_exper_5_authors)\n",
    "plt.title(\"Top 5 content creators in Lucia's active bot\")\n",
    "\n",
    "plt.savefig(f'/Users/fernandagonzalez/Desktop/school/CS 315/CS315_Project1/data_analysis/vizualizations/lucia_top5_activ.png', bbox_inches='tight')\n",
    "plt.show()\n",
    "\n",
    "top_5_fig = plt.figure(figsize=(8, 5))\n",
    "plt.pie(lg_cntrl_5_count, labels = lg_cntrl_5_authors)\n",
    "plt.title(\"Top 5 content creators in Lucia's control bot\")\n",
    "\n",
    "plt.savefig(f'/Users/fernandagonzalez/Desktop/school/CS 315/CS315_Project1/data_analysis/vizualizations/lucia_top5_cntrl.png', bbox_inches='tight')\n",
    "plt.show()"
   ]
  },
  {
   "cell_type": "code",
   "execution_count": null,
   "id": "ff8253d0-0205-4e4a-a22d-0a745d3dce7e",
   "metadata": {},
   "outputs": [],
   "source": [
    "# Sazma\n",
    "top_5_fig = plt.figure(figsize=(8, 5))\n",
    "plt.pie(ss_exper_5_count, labels = ss_exper_5_authors)\n",
    "plt.title(\"Top 5 content creators in Sazma's active bot\")\n",
    "\n",
    "plt.savefig(f'/Users/fernandagonzalez/Desktop/school/CS 315/CS315_Project1/data_analysis/vizualizations/sazma_top5_activ.png', bbox_inches='tight')\n",
    "plt.show()\n",
    "\n",
    "top_5_fig = plt.figure(figsize=(8, 5))\n",
    "plt.pie(ss_cntrl_5_count, labels = ss_cntrl_5_authors)\n",
    "plt.title(\"Top 5 content creators in Sazma's control bot\")\n",
    "\n",
    "plt.savefig(f'/Users/fernandagonzalez/Desktop/school/CS 315/CS315_Project1/data_analysis/vizualizations/sazma_top5_cntrl.png', bbox_inches='tight')\n",
    "plt.show()"
   ]
  }
 ],
 "metadata": {
  "kernelspec": {
   "display_name": "Python 3 (ipykernel)",
   "language": "python",
   "name": "python3"
  },
  "language_info": {
   "codemirror_mode": {
    "name": "ipython",
    "version": 3
   },
   "file_extension": ".py",
   "mimetype": "text/x-python",
   "name": "python",
   "nbconvert_exporter": "python",
   "pygments_lexer": "ipython3",
   "version": "3.11.5"
  }
 },
 "nbformat": 4,
 "nbformat_minor": 5
}
